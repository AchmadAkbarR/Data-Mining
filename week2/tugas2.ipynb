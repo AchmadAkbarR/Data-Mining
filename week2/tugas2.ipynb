{
  "nbformat": 4,
  "nbformat_minor": 0,
  "metadata": {
    "colab": {
      "provenance": []
    },
    "kernelspec": {
      "name": "python3",
      "display_name": "Python 3"
    },
    "language_info": {
      "name": "python"
    }
  },
  "cells": [
    {
      "cell_type": "code",
      "execution_count": 27,
      "metadata": {
        "colab": {
          "base_uri": "https://localhost:8080/"
        },
        "id": "fChO9I-_oKQr",
        "outputId": "38419329-170b-4964-d478-3e7f179ac4be"
      },
      "outputs": [
        {
          "output_type": "stream",
          "name": "stdout",
          "text": [
            "<class 'pandas.core.frame.DataFrame'>\n",
            "RangeIndex: 379 entries, 0 to 378\n",
            "Data columns (total 15 columns):\n",
            " #   Column            Non-Null Count  Dtype  \n",
            "---  ------            --------------  -----  \n",
            " 0   NAMA              379 non-null    object \n",
            " 1   JENIS KELAMIN     379 non-null    object \n",
            " 2   STATUS MAHASISWA  379 non-null    object \n",
            " 3   UMUR              379 non-null    int64  \n",
            " 4   STATUS NIKAH      379 non-null    object \n",
            " 5   IPS 1             379 non-null    float64\n",
            " 6   IPS 2             379 non-null    float64\n",
            " 7   IPS 3             379 non-null    float64\n",
            " 8   IPS 4             379 non-null    float64\n",
            " 9   IPS 5             379 non-null    float64\n",
            " 10  IPS 6             379 non-null    float64\n",
            " 11  IPS 7             379 non-null    float64\n",
            " 12  IPS 8             372 non-null    float64\n",
            " 13  IPK               376 non-null    float64\n",
            " 14  STATUS KELULUSAN  379 non-null    object \n",
            "dtypes: float64(9), int64(1), object(5)\n",
            "memory usage: 44.5+ KB\n"
          ]
        },
        {
          "output_type": "execute_result",
          "data": {
            "text/plain": [
              "(None,\n",
              "                       NAMA JENIS KELAMIN STATUS MAHASISWA  UMUR  \\\n",
              " 0           ANIK WIDAYANTI     PEREMPUAN          BEKERJA    28   \n",
              " 1  DWI HESTYNA PRIHASTANTY     PEREMPUAN        MAHASISWA    32   \n",
              " 2       MURYA ARIEF BASUKI     PEREMPUAN          BEKERJA    29   \n",
              " 3            NANIK SUSANTI     PEREMPUAN        MAHASISWA    27   \n",
              " 4        RIFKA ISTIQFARINA     PEREMPUAN          BEKERJA    29   \n",
              " \n",
              "     STATUS NIKAH  IPS 1  IPS 2  IPS 3  IPS 4  IPS 5  IPS 6  IPS 7  IPS 8  \\\n",
              " 0  BELUM MENIKAH   2.76   2.80   3.20   3.17   2.98   3.00   3.03    0.0   \n",
              " 1  BELUM MENIKAH   3.00   3.30   3.14   3.14   2.84   3.13   3.25    0.0   \n",
              " 2  BELUM MENIKAH   3.50   3.30   3.70   3.29   3.53   3.72   3.73    0.0   \n",
              " 3  BELUM MENIKAH   3.17   3.41   3.61   3.36   3.48   3.63   3.46    0.0   \n",
              " 4  BELUM MENIKAH   2.90   2.89   3.30   2.85   2.98   3.00   3.08    0.0   \n",
              " \n",
              "    IPK  STATUS KELULUSAN  \n",
              " 0  3.07        TERLAMBAT  \n",
              " 1  3.17        TERLAMBAT  \n",
              " 2  3.54        TERLAMBAT  \n",
              " 3  3.41        TERLAMBAT  \n",
              " 4  3.09        TERLAMBAT  )"
            ]
          },
          "metadata": {},
          "execution_count": 27
        }
      ],
      "source": [
        "import pandas as pd\n",
        "import seaborn as sns\n",
        "import matplotlib.pyplot as plt\n",
        "from sklearn.cluster import KMeans\n",
        "from sklearn.preprocessing import StandardScaler\n",
        "# Load the uploaded Excel file\n",
        "file_path = 'klastering.xlsx'\n",
        "\n",
        "# Let's first inspect the structure of the Excel file\n",
        "data = pd.read_excel(file_path)\n",
        "data.info(), data.head()\n"
      ]
    },
    {
      "cell_type": "code",
      "source": [
        "# Drop irrelevant columns for clustering\n",
        "data_numeric = data.drop(columns=['NAMA', 'JENIS KELAMIN', 'STATUS MAHASISWA', 'STATUS NIKAH', 'STATUS KELULUSAN'])\n"
      ],
      "metadata": {
        "id": "ucqzh6D7q1zR"
      },
      "execution_count": 14,
      "outputs": []
    },
    {
      "cell_type": "code",
      "source": [
        "# Fill missing values with the mean of the column\n",
        "data_numeric = data_numeric.fillna(data_numeric.mean())\n"
      ],
      "metadata": {
        "id": "baIbgNwyttd-"
      },
      "execution_count": 16,
      "outputs": []
    },
    {
      "cell_type": "code",
      "source": [
        "# Normalize the data\n",
        "scaler = StandardScaler()\n",
        "data_scaled = scaler.fit_transform(data_numeric)\n"
      ],
      "metadata": {
        "id": "GcWCOCBPwS8w"
      },
      "execution_count": 17,
      "outputs": []
    },
    {
      "cell_type": "code",
      "source": [
        "# Apply KMeans clustering with 3 clusters\n",
        "kmeans = KMeans(n_clusters=3, random_state=42)\n",
        "clusters = kmeans.fit_predict(data_scaled)\n",
        "\n",
        "# Add cluster labels to the original data\n",
        "data['Cluster'] = clusters\n"
      ],
      "metadata": {
        "id": "OMr_Vb0DwWK-"
      },
      "execution_count": 18,
      "outputs": []
    },
    {
      "cell_type": "code",
      "source": [
        "# Show the first few rows with the cluster labels\n",
        "print(data[['NAMA', 'Cluster']].head())\n",
        "\n",
        "plt.figure(figsize=(10, 6))\n",
        "sns.countplot(x='Cluster', data=data)\n",
        "plt.title('Distribution of Clusters')\n",
        "plt.show()\n"
      ],
      "metadata": {
        "colab": {
          "base_uri": "https://localhost:8080/",
          "height": 673
        },
        "id": "UzraZP4hwZIq",
        "outputId": "f701bd8e-6155-4460-bb4e-4e647a15c86f"
      },
      "execution_count": 26,
      "outputs": [
        {
          "output_type": "stream",
          "name": "stdout",
          "text": [
            "                      NAMA  Cluster\n",
            "0           ANIK WIDAYANTI        2\n",
            "1  DWI HESTYNA PRIHASTANTY        1\n",
            "2       MURYA ARIEF BASUKI        1\n",
            "3            NANIK SUSANTI        1\n",
            "4        RIFKA ISTIQFARINA        2\n"
          ]
        },
        {
          "output_type": "display_data",
          "data": {
            "text/plain": [
              "<Figure size 1000x600 with 1 Axes>"
            ],
            "image/png": "[encoded data removed]"
          },
          "metadata": {}
        }
      ]
    }
  ]
}